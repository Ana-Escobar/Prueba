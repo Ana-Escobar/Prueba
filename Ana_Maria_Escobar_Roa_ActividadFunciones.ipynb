{
  "nbformat": 4,
  "nbformat_minor": 0,
  "metadata": {
    "colab": {
      "name": "Ana Maria Escobar Roa - ActividadFunciones.ipynb",
      "provenance": [],
      "include_colab_link": true
    },
    "kernelspec": {
      "name": "python3",
      "display_name": "Python 3"
    },
    "language_info": {
      "name": "python"
    }
  },
  "cells": [
    {
      "cell_type": "markdown",
      "metadata": {
        "id": "view-in-github",
        "colab_type": "text"
      },
      "source": [
        "<a href=\"https://colab.research.google.com/github/Ana-Escobar/Prueba/blob/main/Ana_Maria_Escobar_Roa_ActividadFunciones.ipynb\" target=\"_parent\"><img src=\"https://colab.research.google.com/assets/colab-badge.svg\" alt=\"Open In Colab\"/></a>"
      ]
    },
    {
      "cell_type": "markdown",
      "metadata": {
        "id": "Onn3PC8BICXL"
      },
      "source": [
        " **En los enlaces abajo se usan enlaces de wikipedia por conveniencia. La información en wikipedia debe ser manejada con cautela ya que no necesariamente ha sido verificada por pares expertos en los temas. \n",
        "En este caso el procedimiento correcto es consultar libros o artículos académicos .** \n",
        "\n",
        "*Recuerde compartir el notebook con las personas de su grupo*\n",
        "\n",
        "\n",
        "---\n",
        "\n",
        "\n",
        "\n",
        "---\n",
        "\n",
        "\n",
        "#Problemas\n",
        "Escriba funciones para \n",
        "\n",
        "1.   Dado un número entero, este sea clarificado según como : perfecto, defectivo, abundante. Use su número de identificación.*(**Opcionalmente** considere en la clasificación como semi perfecto)*. Puede consultar\n",
        " https://es.wikipedia.org/wiki/N%C3%BAmero_perfecto\n",
        "2.  Dado un número de 4 digitos, calcule cuantas iteraciones de Kaprekar toma este para llegar a la contante de  Kaprekar de cuatro dígitos : 6174. Consulte https://es.wikipedia.org/wiki/Constante_de_Kaprekar .**Opcional::¿Existe una constate de kaprekar de 5 dititos?**\n",
        "\n",
        "3. ¿Cuál es el propósito de la siguiente función?\n",
        "\n",
        "```\n",
        "def funcion5(l):\n",
        "  x = []\n",
        "  for a in l:\n",
        "    if a not in x:\n",
        "      x.append(a)\n",
        "  return x\n",
        "```\n",
        "4. \n",
        "¿Cuál es el propósito de la siguiente función?\n",
        "\n",
        "```\n",
        "vendidos = [\"Espresso\", \"Espresso\", \"Latte\",\"Cappuccino\", \"Mocha\", \"Espresso\", \"Latte\"]\n",
        "\n",
        "\n",
        "def contar_vendidos(lista, item=\"Espresso\"):\n",
        "\t   n = lista.count(item)\n",
        "\t   print(\"{} {}s vendidos.\".format(n, item))\n",
        "\n",
        "contar_vendidos(vendidos)\n",
        "```\n",
        "\n",
        "\n",
        "\n",
        "5. En internet se encuentra la función que decide primalidad \n",
        "https://www.w3resource.com/python-exercises/python-functions-exercise-9.php\n",
        " \n",
        "Análise visualmente esta función y comente sus ventajas e inconvenientes.(No es necesario hacer pruebas de tiempo o uso de memoria).\n",
        "\n",
        "6.  Escriba una función que imprima las primeras n filas del triángulo de Pascal https://es.wikipedia.org/wiki/Tri%C3%A1ngulo_de_Pascal\n",
        "\n"
      ]
    },
    {
      "cell_type": "markdown",
      "metadata": {
        "id": "7Ia5Gq2--A-v"
      },
      "source": [
        "# Problema 1"
      ]
    },
    {
      "cell_type": "code",
      "source": [
        "def numero_perfecto(n):\n",
        "  suma=0\n",
        "  for divisor in range(1, n):\n",
        "    if (n%divisor==0):\n",
        "      suma=suma+divisor\n",
        "  if (suma==n):\n",
        "    estado = 'Número perfecto'\n",
        "  elif (suma<n):\n",
        "    estado = 'Número defectivo'\n",
        "  elif (suma>n):\n",
        "    estado = 'Número abundante'\n",
        "  return estado\n",
        "n=int(input())\n",
        "print(numero_perfecto(n))"
      ],
      "metadata": {
        "id": "eUU3aNTx5or6",
        "colab": {
          "base_uri": "https://localhost:8080/"
        },
        "outputId": "9dcdda21-353b-45d3-b970-724fc5d4fdd0"
      },
      "execution_count": null,
      "outputs": [
        {
          "output_type": "stream",
          "name": "stdout",
          "text": [
            "1000787306\n",
            "Número defectivo\n"
          ]
        }
      ]
    },
    {
      "cell_type": "markdown",
      "metadata": {
        "id": "EP-OjT1Eu3eV"
      },
      "source": [
        "# Problema 2"
      ]
    },
    {
      "cell_type": "code",
      "source": [
        "def kaprekar(num):\n",
        "  estado = False;                                #declaramos la variable estado como \"globlal\" para poder hacer uso de la misma mas adelante\n",
        "  x = [int(a) for a in str(num)]                 #convertimos el argumento de entrada (string) en una lista con los digitos como strings separados \n",
        "  if x[1] == x[2] and x[2] == x[3]:              #Evaluamos los ultimos digitos del numero ingresado mediante la posición de la lista a modo de saber si es un caso especial\n",
        "    a = int(x[3]); b = int(x[0])                 \n",
        "    if a > b:                     \n",
        "      c= a-b                                     #hacemos una resta entre los valores numericos del primer y ultimo elemento de la lista a modo de saber si la resta a efectuar sera un numero de 3 digitos\n",
        "    elif a<b:\n",
        "      c=b-a\n",
        "    else:\n",
        "      print('no se puede aplicar la operación de kaprekar sobre un numero con todos sus digitos iguales')\n",
        "    if c==1:                                \n",
        "      estado=True\n",
        "  if x[0] == x[3] and x[1] == x[2]:\n",
        "    print('no se puede efectuar la operación de kaprekar sobre un número capicúa')\n",
        "  for i in range(7):\n",
        "    num = x                                       \n",
        "    num.sort()                                    #ordenamos la lista de manera ascendente     \n",
        "    recorrer = [str(k) for k  in x]               #recorremos cada elemento de la lista y lo pasamos string\n",
        "    string = \"\". join(recorrer)                   #Convertimos todos los elementos de la lista en un solo string\n",
        "    inverse = int((string)[::-1])                 #'Volteamos' el string\n",
        "    x_integer = int(string)                       #Pasamos el string a un numero entero\n",
        "    x = inverse - x_integer                       #efectuamos la operación kaprekar\n",
        "    if x ==6174:\n",
        "      i+=1\n",
        "      break\n",
        "    elif estado:\n",
        "      x = [int(a) for a in str(x)]\n",
        "      if len(x)==3:\n",
        "        x.insert(0,0)                               #se agrega el digito 0 cuando la resta de la operación es un numero de 3 digitos\n",
        "    else:\n",
        "        x= [int(a) for a in str(x)]\n",
        "  return i\n",
        "num=input()\n",
        "print(kaprekar(4598))"
      ],
      "metadata": {
        "id": "Q4xMTWYvcXDt",
        "outputId": "f6592d7a-e113-4d08-b25a-df232c04491c",
        "colab": {
          "base_uri": "https://localhost:8080/"
        }
      },
      "execution_count": null,
      "outputs": [
        {
          "output_type": "stream",
          "name": "stdout",
          "text": [
            "\n",
            "5\n"
          ]
        }
      ]
    },
    {
      "cell_type": "markdown",
      "source": [
        "# Problema 3\n",
        "\n",
        "La función sirve para recorrer al argumento de entrada \"l\" donde se evalua si la variable 'a' se encuentra en la lista y en dado caso de no estar se agrega a la lista x"
      ],
      "metadata": {
        "id": "xdjeQUv1H6gY"
      }
    },
    {
      "cell_type": "code",
      "source": [
        "def funcion(l):\n",
        "  x = []\n",
        "  for a in l:\n",
        "    if a not in x:\n",
        "      x.append(a)\n",
        "  return x\n",
        "\n",
        "#l=['k','b','c','d']\n",
        "#print(funcion(l))"
      ],
      "metadata": {
        "id": "4jwrliCLDoKK"
      },
      "execution_count": null,
      "outputs": []
    },
    {
      "cell_type": "markdown",
      "source": [
        "#Problema 4\n",
        "Tras tener la lista de tipos de café vendidos se usa como parametro de entrada en la función para evidenciar la cantidad de veces que se repite un elemento mediante n  "
      ],
      "metadata": {
        "id": "lAvbN5v4VjGe"
      }
    },
    {
      "cell_type": "code",
      "source": [
        "vendidos = [\"Espresso\", \"Espresso\", \"Latte\",\"Cappuccino\", \"Mocha\", \"Espresso\", \"Latte\"]\n",
        "\n",
        "\n",
        "def contar_vendidos(lista, item=\"Espresso\"):\n",
        "       n = lista.count(item)\n",
        "       print(\"{} {}s vendidos.\".format(n, item))\n",
        "\n",
        "contar_vendidos(vendidos)"
      ],
      "metadata": {
        "colab": {
          "base_uri": "https://localhost:8080/"
        },
        "id": "hyM6HAU-VogU",
        "outputId": "564286ec-7861-4808-e647-512218da0711"
      },
      "execution_count": null,
      "outputs": [
        {
          "output_type": "stream",
          "name": "stdout",
          "text": [
            "3 Espressos vendidos.\n"
          ]
        }
      ]
    },
    {
      "cell_type": "markdown",
      "source": [
        "# Problema 5\n",
        "\n"
      ],
      "metadata": {
        "id": "ApVhE5K3wel_"
      }
    },
    {
      "cell_type": "markdown",
      "source": [
        "Primeramente al evaluar la solución 1 podemos notar que emplea muchos mas pasos para resolver el problema aumentando el tiempo que tarda para resolver el problema. Supongamos que probar cada número gasta 1 unidad de tiempo, entonces vamos a gastar para probar que un número es primo tantas unidades de tiempo como el valor del primo, lo cual generaría grandes tiempos de espera en función del tamaño del numero a evaluar.\n",
        "Para el segundo código se resuelve el problema del tiempo. Se hace uso del hecho de que, si un número se puede factorizar de la forma x = mn, entonces se debe tener que m < $\\sqrt(x)$ (de lo contrario mn > x) de modo que alguno de los factores debe ser menor que $\\sqrt(x)$. Teniendo en mente la desigualdad MA-MG sabemos que el tiempo que se gastará en correr esta solución será menor que el de la solución anterior"
      ],
      "metadata": {
        "id": "-HRahCTYyMFp"
      }
    },
    {
      "cell_type": "code",
      "source": [
        "#solucion 1\n",
        "def test_prime(n):\n",
        "    if (n==1):\n",
        "        return False\n",
        "    elif (n==2):\n",
        "        return True;\n",
        "    else:\n",
        "        for x in range(2,n):\n",
        "            if(n % x==0):\n",
        "                return False\n",
        "        return True             \n",
        "print(test_prime(9))"
      ],
      "metadata": {
        "id": "8LPcOtHswoYi",
        "colab": {
          "base_uri": "https://localhost:8080/"
        },
        "outputId": "e8efee81-912f-4076-d8f2-8bc8ddd64723"
      },
      "execution_count": null,
      "outputs": [
        {
          "output_type": "stream",
          "name": "stdout",
          "text": [
            "False\n"
          ]
        }
      ]
    },
    {
      "cell_type": "code",
      "source": [
        "#solución 2\n",
        "from math import sqrt\n",
        "def is_prime(num):\n",
        "  if num <= 1 or (num % 2 == 0 and num > 2): \n",
        "    return False\n",
        "  return all(num % i for i in range(3, int(sqrt(num)) + 1, 2))\n",
        "print(is_prime(11))\n",
        "print(is_prime(13))\n",
        "print(is_prime(16))\n",
        "print(is_prime(17))\n",
        "print(is_prime(97))"
      ],
      "metadata": {
        "id": "dc7Nl0MMyeWI",
        "colab": {
          "base_uri": "https://localhost:8080/"
        },
        "outputId": "9f91ddba-6231-4382-8db3-b1f5356a3a8c"
      },
      "execution_count": null,
      "outputs": [
        {
          "output_type": "stream",
          "name": "stdout",
          "text": [
            "True\n",
            "True\n",
            "False\n",
            "True\n",
            "True\n"
          ]
        }
      ]
    },
    {
      "cell_type": "markdown",
      "source": [
        "# Problema 6"
      ],
      "metadata": {
        "id": "ltCWzAqBhWsm"
      }
    },
    {
      "cell_type": "code",
      "source": [
        "a = int(input(\"Ingrese el numero de filas\"))\n",
        "\n",
        "def pascal(a):\n",
        "     filas = []    #Lista vacía para almacenar las filas con sus respectivos elementos\n",
        "     for n in range(a):    \n",
        "          filas.append([])  \n",
        "          filas[n].append(1)\n",
        "          for m in range(1, n):\n",
        "              filas[n].append(filas[n - 1][m - 1] + filas[n - 1][m])\n",
        "          if(n>=1):\n",
        "              filas[n].append(1)\n",
        "          for m in range(0, n + 1):\n",
        "              print((filas[n][m]), end = \" \")\n",
        "          print()\n",
        "pascal(a)"
      ],
      "metadata": {
        "id": "7grp1yUIhZ78",
        "colab": {
          "base_uri": "https://localhost:8080/"
        },
        "outputId": "9cb97a5f-4a1c-41dd-a343-95618b6a5c28"
      },
      "execution_count": null,
      "outputs": [
        {
          "output_type": "stream",
          "name": "stdout",
          "text": [
            "Ingrese el numero de filas6\n",
            "1 \n",
            "1 1 \n",
            "1 2 1 \n",
            "1 3 3 1 \n",
            "1 4 6 4 1 \n",
            "1 5 10 10 5 1 \n"
          ]
        }
      ]
    }
  ]
}